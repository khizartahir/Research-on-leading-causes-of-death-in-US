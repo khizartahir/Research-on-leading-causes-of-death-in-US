{
 "cells": [
  {
   "cell_type": "markdown",
   "metadata": {},
   "source": [
    "# <center><font color = \"navy\">Research on Leading causes of Death in the US</font></center> "
   ]
  },
  {
   "cell_type": "markdown",
   "metadata": {},
   "source": [
    "**Author:** Muhammad Khizar Hayat Tahir"
   ]
  },
  {
   "cell_type": "markdown",
   "metadata": {},
   "source": [
    "## A. Introduction\n",
    "Data Management is the practice of acquiring, cleaning, manipulating, storing, and analysing data. With the amount of data available to us, it is impossible to just look at raw sheets and tables and be able to make sense out of it. Luckily for us, there are several tools and packages available that make such management doable. \n",
    "One such package in Python is Pandas. Pandas is a software library widely used for Data Manipulation and Analysis. It offers data structures and methods for dealing with datasets. This assignment is an illustration of how effective Pandas are for managing datasets and acquiring the insights otherwise not visible. "
   ]
  },
  {
   "cell_type": "markdown",
   "metadata": {},
   "source": [
    "## B. Project Overview\n",
    "In this project, we are going to use data related to causes of death in the United States to answer some analytical questions. \n",
    "We have been provided with two datasets:\n",
    "<ol> \n",
    "    <li>The first one has unordered data from year 1999 to year 2016 showing how many deaths were caused by a particular cause of death in a particular state in a particular year.</li>\n",
    "    <li>The second one has population data for the individual states, the four census regions, and United States as a whole for the years 2010 till 2018.</li>\n",
    "</ol>\n",
    "We will use these datasets, and Pandas to answer questions about changes in death rate, and identify and analyse the leading causes of death, state-wise, nationally, and yearly. "
   ]
  },
  {
   "cell_type": "markdown",
   "metadata": {},
   "source": [
    "## C. Code and Explanation"
   ]
  },
  {
   "cell_type": "markdown",
   "metadata": {},
   "source": [
    "### Preliminary steps"
   ]
  },
  {
   "cell_type": "markdown",
   "metadata": {},
   "source": [
    "Importing Pandas package"
   ]
  },
  {
   "cell_type": "code",
   "execution_count": 1,
   "metadata": {},
   "outputs": [],
   "source": [
    "import pandas as pd\n",
    "import warnings\n",
    "warnings.simplefilter(action='ignore')"
   ]
  },
  {
   "cell_type": "markdown",
   "metadata": {},
   "source": [
    "Reading in the first dataset (read_csv function) containing leading causes of death in US, and creating a pandas dataframe df1. \n",
    "\n",
    "To get some sense of this dataset, we execute the commands below to know how much data we have for different variables and also print the top few rows of our dataframe.  "
   ]
  },
  {
   "cell_type": "code",
   "execution_count": 2,
   "metadata": {
    "scrolled": true
   },
   "outputs": [
    {
     "name": "stdout",
     "output_type": "stream",
     "text": [
      "Unique States: 52\n",
      "Unique causes: 11\n",
      "Unique years: 18\n"
     ]
    },
    {
     "data": {
      "text/html": [
       "<div>\n",
       "<style scoped>\n",
       "    .dataframe tbody tr th:only-of-type {\n",
       "        vertical-align: middle;\n",
       "    }\n",
       "\n",
       "    .dataframe tbody tr th {\n",
       "        vertical-align: top;\n",
       "    }\n",
       "\n",
       "    .dataframe thead th {\n",
       "        text-align: right;\n",
       "    }\n",
       "</style>\n",
       "<table border=\"1\" class=\"dataframe\">\n",
       "  <thead>\n",
       "    <tr style=\"text-align: right;\">\n",
       "      <th></th>\n",
       "      <th>Year</th>\n",
       "      <th>113 Cause Name</th>\n",
       "      <th>Cause Name</th>\n",
       "      <th>State</th>\n",
       "      <th>Deaths</th>\n",
       "      <th>Age-adjusted Death Rate</th>\n",
       "    </tr>\n",
       "  </thead>\n",
       "  <tbody>\n",
       "    <tr>\n",
       "      <th>0</th>\n",
       "      <td>2012</td>\n",
       "      <td>Nephritis, nephrotic syndrome and nephrosis (N...</td>\n",
       "      <td>Kidney disease</td>\n",
       "      <td>Vermont</td>\n",
       "      <td>21</td>\n",
       "      <td>2.6</td>\n",
       "    </tr>\n",
       "    <tr>\n",
       "      <th>1</th>\n",
       "      <td>2016</td>\n",
       "      <td>Nephritis, nephrotic syndrome and nephrosis (N...</td>\n",
       "      <td>Kidney disease</td>\n",
       "      <td>Vermont</td>\n",
       "      <td>30</td>\n",
       "      <td>3.7</td>\n",
       "    </tr>\n",
       "  </tbody>\n",
       "</table>\n",
       "</div>"
      ],
      "text/plain": [
       "   Year                                     113 Cause Name      Cause Name  \\\n",
       "0  2012  Nephritis, nephrotic syndrome and nephrosis (N...  Kidney disease   \n",
       "1  2016  Nephritis, nephrotic syndrome and nephrosis (N...  Kidney disease   \n",
       "\n",
       "     State  Deaths  Age-adjusted Death Rate  \n",
       "0  Vermont      21                      2.6  \n",
       "1  Vermont      30                      3.7  "
      ]
     },
     "execution_count": 2,
     "metadata": {},
     "output_type": "execute_result"
    }
   ],
   "source": [
    "deaths_file = \"C://RIT Courses/BANA 680 - Data Mgmt for BA/jupyter test/NCHS_-_Leading_Causes_of_Death__United_States.csv\"\n",
    "df1 = pd.read_csv(deaths_file)\n",
    "print('Unique States:', len(df1['State'].unique()))\n",
    "print('Unique causes:', len(df1['Cause Name'].unique()))\n",
    "print('Unique years:', len(df1['Year'].unique()))\n",
    "(df1.head(2))"
   ]
  },
  {
   "cell_type": "markdown",
   "metadata": {},
   "source": [
    "Reading in the second dataset (read_excel function) containing population per state and US in general, and creating a dataframe df2. We can print the head to see what kind of data we have. We can see that this dataset requires cleansing and adjustment to make it usable. We will do that below when required. "
   ]
  },
  {
   "cell_type": "code",
   "execution_count": 3,
   "metadata": {},
   "outputs": [],
   "source": [
    "pop_file = \"C://RIT Courses/BANA 680 - Data Mgmt for BA/jupyter test/nst-est2018-01.xlsx\"\n",
    "df2 = pd.read_excel(pop_file)"
   ]
  },
  {
   "cell_type": "markdown",
   "metadata": {},
   "source": [
    "### Part 1\n",
    "This part required us to determine if Americans were facing increasing, decreasing, or steady likelyhood of death. The following points outline some important concepts about this part. \n",
    "<ul> \n",
    "    <li>This part was about America as a whole. We observed from the dataset that the data for individual states was already aggregated for United States. Those entries had United States under the \"State\" column. So we did not need to aggregate from individual states again, rather only filtering for US was required.</li>\n",
    "    <li>Similarly, the causes were also aggregated under Cause Name -> \"All causes\". We chose to filter out All causes which will leave us with all individual causes. </li>\n",
    "    <li>The first dataset had the actual total number of deaths for each category. Aggregating them and comparing is not a viable solution as the population could have varied.</li>\n",
    "    <li>We needed to standardize the death variable to ensure fair comparison. </li>\n",
    "    <li>We used that second dataset to extract the population in each year. </li>\n",
    "    <li>Our goal was to calculate, for each year, the total number of deaths in the United States and divide them by the population of US that year to remove the effect of population size on our comparison. </li>\n",
    "</ul>"
   ]
  },
  {
   "cell_type": "markdown",
   "metadata": {},
   "source": [
    "**Part 1.1:** \n",
    "\n",
    "We create a mask to obtain a list of booleans where the rows containing US as State would be true only. \n",
    "Then we subset that mask from df1 to create a dataframe with only US, df1_usa. \n",
    "A quick check to see unique states in df1_usa shows it only has US. \n",
    "We create mask1 to create a boolean list which is true when Cause name is All causes. \n",
    "We subset the negation of this mask from our dataframe to create df1_usa_filtered that only has US and no 'All causes' row. \n",
    "We do some testing at the end to verify our dataframe. \n",
    "A head command is executed to ensure the original structure is maintained. "
   ]
  },
  {
   "cell_type": "code",
   "execution_count": 4,
   "metadata": {},
   "outputs": [
    {
     "name": "stdout",
     "output_type": "stream",
     "text": [
      "Is US present? True\n",
      "Is \"All causes\" present? False\n",
      "Total unique states: 1\n",
      "Total unique causes: 10\n"
     ]
    },
    {
     "data": {
      "text/html": [
       "<div>\n",
       "<style scoped>\n",
       "    .dataframe tbody tr th:only-of-type {\n",
       "        vertical-align: middle;\n",
       "    }\n",
       "\n",
       "    .dataframe tbody tr th {\n",
       "        vertical-align: top;\n",
       "    }\n",
       "\n",
       "    .dataframe thead th {\n",
       "        text-align: right;\n",
       "    }\n",
       "</style>\n",
       "<table border=\"1\" class=\"dataframe\">\n",
       "  <thead>\n",
       "    <tr style=\"text-align: right;\">\n",
       "      <th></th>\n",
       "      <th>Year</th>\n",
       "      <th>113 Cause Name</th>\n",
       "      <th>Cause Name</th>\n",
       "      <th>State</th>\n",
       "      <th>Deaths</th>\n",
       "      <th>Age-adjusted Death Rate</th>\n",
       "    </tr>\n",
       "  </thead>\n",
       "  <tbody>\n",
       "    <tr>\n",
       "      <th>489</th>\n",
       "      <td>2000</td>\n",
       "      <td>Intentional self-harm (suicide) (*U03,X60-X84,...</td>\n",
       "      <td>Suicide</td>\n",
       "      <td>United States</td>\n",
       "      <td>29350</td>\n",
       "      <td>10.4</td>\n",
       "    </tr>\n",
       "    <tr>\n",
       "      <th>510</th>\n",
       "      <td>1999</td>\n",
       "      <td>Intentional self-harm (suicide) (*U03,X60-X84,...</td>\n",
       "      <td>Suicide</td>\n",
       "      <td>United States</td>\n",
       "      <td>29199</td>\n",
       "      <td>10.5</td>\n",
       "    </tr>\n",
       "  </tbody>\n",
       "</table>\n",
       "</div>"
      ],
      "text/plain": [
       "     Year                                     113 Cause Name Cause Name  \\\n",
       "489  2000  Intentional self-harm (suicide) (*U03,X60-X84,...    Suicide   \n",
       "510  1999  Intentional self-harm (suicide) (*U03,X60-X84,...    Suicide   \n",
       "\n",
       "             State  Deaths  Age-adjusted Death Rate  \n",
       "489  United States   29350                     10.4  \n",
       "510  United States   29199                     10.5  "
      ]
     },
     "execution_count": 4,
     "metadata": {},
     "output_type": "execute_result"
    }
   ],
   "source": [
    "mask = df1['State'].isin(['United States'])\n",
    "mask1 = df1['Cause Name'].isin(['All causes'])\n",
    "df1_usa = df1[mask] # this has individual + All causes\n",
    "df1_usa_filtered = df1_usa[-mask1] # only individual causes\n",
    "# Tests\n",
    "print('Is US present?', df1_usa_filtered['State'].isin(['United States']).any())\n",
    "print('Is \"All causes\" present?', df1_usa_filtered['Cause Name'].isin(['All causes']).any())\n",
    "print('Total unique states:', len(df1_usa_filtered['State'].unique()))\n",
    "print('Total unique causes:', len(df1_usa_filtered['Cause Name'].unique()))\n",
    "df1_usa_filtered.head(2)"
   ]
  },
  {
   "cell_type": "markdown",
   "metadata": {},
   "source": [
    "**Part 1.2:**\n",
    "\n",
    "Here, we group the US dataframe by Year and aggregate the Deaths to obtain a dataframe (usa_deaths) which has a single entry for each year and shows the total number of deaths in that year for US regardless of Cause. "
   ]
  },
  {
   "cell_type": "code",
   "execution_count": 5,
   "metadata": {
    "scrolled": true
   },
   "outputs": [
    {
     "data": {
      "text/html": [
       "<div>\n",
       "<style scoped>\n",
       "    .dataframe tbody tr th:only-of-type {\n",
       "        vertical-align: middle;\n",
       "    }\n",
       "\n",
       "    .dataframe tbody tr th {\n",
       "        vertical-align: top;\n",
       "    }\n",
       "\n",
       "    .dataframe thead th {\n",
       "        text-align: right;\n",
       "    }\n",
       "</style>\n",
       "<table border=\"1\" class=\"dataframe\">\n",
       "  <thead>\n",
       "    <tr style=\"text-align: right;\">\n",
       "      <th></th>\n",
       "      <th>Year</th>\n",
       "      <th>Deaths</th>\n",
       "    </tr>\n",
       "  </thead>\n",
       "  <tbody>\n",
       "    <tr>\n",
       "      <th>0</th>\n",
       "      <td>1999</td>\n",
       "      <td>1905826</td>\n",
       "    </tr>\n",
       "    <tr>\n",
       "      <th>1</th>\n",
       "      <td>2000</td>\n",
       "      <td>1902194</td>\n",
       "    </tr>\n",
       "  </tbody>\n",
       "</table>\n",
       "</div>"
      ],
      "text/plain": [
       "   Year   Deaths\n",
       "0  1999  1905826\n",
       "1  2000  1902194"
      ]
     },
     "execution_count": 5,
     "metadata": {},
     "output_type": "execute_result"
    }
   ],
   "source": [
    "usa_deaths = df1_usa_filtered.groupby('Year').agg({'Deaths':sum}).reset_index()\n",
    "usa_deaths.head(2)"
   ]
  },
  {
   "cell_type": "markdown",
   "metadata": {},
   "source": [
    "**Part 1.3:**\n",
    "\n",
    "We observed from the population dataset that each year has its own column. Our main dataframe has a colum for year and each year is a row. \n",
    "We create a new dataframe (usa_pop) that uses iloc to subset data from the population dataset(df2) to recreate it in long form so it is consistent with our first dataframe.  \n",
    "We are not too concerned about the index names as this is just a middle step. "
   ]
  },
  {
   "cell_type": "code",
   "execution_count": 6,
   "metadata": {
    "scrolled": true
   },
   "outputs": [
    {
     "data": {
      "text/html": [
       "<div>\n",
       "<style scoped>\n",
       "    .dataframe tbody tr th:only-of-type {\n",
       "        vertical-align: middle;\n",
       "    }\n",
       "\n",
       "    .dataframe tbody tr th {\n",
       "        vertical-align: top;\n",
       "    }\n",
       "\n",
       "    .dataframe thead th {\n",
       "        text-align: right;\n",
       "    }\n",
       "</style>\n",
       "<table border=\"1\" class=\"dataframe\">\n",
       "  <thead>\n",
       "    <tr style=\"text-align: right;\">\n",
       "      <th></th>\n",
       "      <th>Year</th>\n",
       "      <th>Pop</th>\n",
       "    </tr>\n",
       "  </thead>\n",
       "  <tbody>\n",
       "    <tr>\n",
       "      <th>Unnamed: 3</th>\n",
       "      <td>2010</td>\n",
       "      <td>309326085</td>\n",
       "    </tr>\n",
       "    <tr>\n",
       "      <th>Unnamed: 4</th>\n",
       "      <td>2011</td>\n",
       "      <td>3.1158e+08</td>\n",
       "    </tr>\n",
       "  </tbody>\n",
       "</table>\n",
       "</div>"
      ],
      "text/plain": [
       "            Year         Pop\n",
       "Unnamed: 3  2010   309326085\n",
       "Unnamed: 4  2011  3.1158e+08"
      ]
     },
     "execution_count": 6,
     "metadata": {},
     "output_type": "execute_result"
    }
   ],
   "source": [
    "usa_pop = pd.DataFrame({'Year': df2.iloc[2, 3:], 'Pop': df2.iloc[3, 3:]})\n",
    "usa_pop.reset_index()\n",
    "usa_pop.head(2)"
   ]
  },
  {
   "cell_type": "markdown",
   "metadata": {},
   "source": [
    "**Part 1.4:**\n",
    "\n",
    "Here, we finally merge the two datasets, usa_deaths and usa_pop. \n",
    "We use the merge function of pandas, set the anchor on Year column as that is what we need data arranged on the basis of in both datasets. \n",
    "We know that standardization is very important for fair comparison, and also that one dataset has more years of data than the other. So we use a 'right' join to keep that data for years which we have the population size for. This is a cleansing method. \n",
    "We are left with multiple rows with Nan values which we drop. \n",
    "At the end, we are left with a clean/filtered single data frame (merge1) which has one entry per year, and for that year, it has the total deaths, and US population size for that year. \n",
    "We only have 7 years for which all relavant data is available, but those are the only years we can effectively compare. The other years will only disturb our analysis. "
   ]
  },
  {
   "cell_type": "code",
   "execution_count": 7,
   "metadata": {
    "scrolled": true
   },
   "outputs": [
    {
     "data": {
      "text/html": [
       "<div>\n",
       "<style scoped>\n",
       "    .dataframe tbody tr th:only-of-type {\n",
       "        vertical-align: middle;\n",
       "    }\n",
       "\n",
       "    .dataframe tbody tr th {\n",
       "        vertical-align: top;\n",
       "    }\n",
       "\n",
       "    .dataframe thead th {\n",
       "        text-align: right;\n",
       "    }\n",
       "</style>\n",
       "<table border=\"1\" class=\"dataframe\">\n",
       "  <thead>\n",
       "    <tr style=\"text-align: right;\">\n",
       "      <th></th>\n",
       "      <th>Year</th>\n",
       "      <th>Deaths</th>\n",
       "      <th>Pop</th>\n",
       "    </tr>\n",
       "  </thead>\n",
       "  <tbody>\n",
       "    <tr>\n",
       "      <th>0</th>\n",
       "      <td>2010.0</td>\n",
       "      <td>1852349.0</td>\n",
       "      <td>309326085</td>\n",
       "    </tr>\n",
       "    <tr>\n",
       "      <th>1</th>\n",
       "      <td>2011.0</td>\n",
       "      <td>1869321.0</td>\n",
       "      <td>3.1158e+08</td>\n",
       "    </tr>\n",
       "  </tbody>\n",
       "</table>\n",
       "</div>"
      ],
      "text/plain": [
       "     Year     Deaths         Pop\n",
       "0  2010.0  1852349.0   309326085\n",
       "1  2011.0  1869321.0  3.1158e+08"
      ]
     },
     "execution_count": 7,
     "metadata": {},
     "output_type": "execute_result"
    }
   ],
   "source": [
    "merge1 = pd.merge(usa_deaths, usa_pop, on='Year', how='right')\n",
    "merge1 = merge1.dropna()\n",
    "merge1.head(2)"
   ]
  },
  {
   "cell_type": "markdown",
   "metadata": {},
   "source": [
    "**Part 1.5:**\n",
    "\n",
    "Here, we calculate the Death per Million (dpm) for each year. \n",
    "We create a new column dpm where we store this standardized rate. "
   ]
  },
  {
   "cell_type": "code",
   "execution_count": 8,
   "metadata": {},
   "outputs": [
    {
     "data": {
      "text/html": [
       "<div>\n",
       "<style scoped>\n",
       "    .dataframe tbody tr th:only-of-type {\n",
       "        vertical-align: middle;\n",
       "    }\n",
       "\n",
       "    .dataframe tbody tr th {\n",
       "        vertical-align: top;\n",
       "    }\n",
       "\n",
       "    .dataframe thead th {\n",
       "        text-align: right;\n",
       "    }\n",
       "</style>\n",
       "<table border=\"1\" class=\"dataframe\">\n",
       "  <thead>\n",
       "    <tr style=\"text-align: right;\">\n",
       "      <th></th>\n",
       "      <th>Year</th>\n",
       "      <th>Deaths</th>\n",
       "      <th>Pop</th>\n",
       "      <th>dpm</th>\n",
       "    </tr>\n",
       "  </thead>\n",
       "  <tbody>\n",
       "    <tr>\n",
       "      <th>0</th>\n",
       "      <td>2010.0</td>\n",
       "      <td>1852349.0</td>\n",
       "      <td>309326085</td>\n",
       "      <td>5988.34</td>\n",
       "    </tr>\n",
       "    <tr>\n",
       "      <th>1</th>\n",
       "      <td>2011.0</td>\n",
       "      <td>1869321.0</td>\n",
       "      <td>3.1158e+08</td>\n",
       "      <td>5999.49</td>\n",
       "    </tr>\n",
       "    <tr>\n",
       "      <th>2</th>\n",
       "      <td>2012.0</td>\n",
       "      <td>1876588.0</td>\n",
       "      <td>3.13874e+08</td>\n",
       "      <td>5978.79</td>\n",
       "    </tr>\n",
       "    <tr>\n",
       "      <th>3</th>\n",
       "      <td>2013.0</td>\n",
       "      <td>1910311.0</td>\n",
       "      <td>3.16058e+08</td>\n",
       "      <td>6044.18</td>\n",
       "    </tr>\n",
       "    <tr>\n",
       "      <th>4</th>\n",
       "      <td>2014.0</td>\n",
       "      <td>1938408.0</td>\n",
       "      <td>3.18386e+08</td>\n",
       "      <td>6088.22</td>\n",
       "    </tr>\n",
       "    <tr>\n",
       "      <th>5</th>\n",
       "      <td>2015.0</td>\n",
       "      <td>2013017.0</td>\n",
       "      <td>3.20743e+08</td>\n",
       "      <td>6276.11</td>\n",
       "    </tr>\n",
       "    <tr>\n",
       "      <th>6</th>\n",
       "      <td>2016.0</td>\n",
       "      <td>2034119.0</td>\n",
       "      <td>3.23071e+08</td>\n",
       "      <td>6296.19</td>\n",
       "    </tr>\n",
       "  </tbody>\n",
       "</table>\n",
       "</div>"
      ],
      "text/plain": [
       "     Year     Deaths          Pop      dpm\n",
       "0  2010.0  1852349.0    309326085  5988.34\n",
       "1  2011.0  1869321.0   3.1158e+08  5999.49\n",
       "2  2012.0  1876588.0  3.13874e+08  5978.79\n",
       "3  2013.0  1910311.0  3.16058e+08  6044.18\n",
       "4  2014.0  1938408.0  3.18386e+08  6088.22\n",
       "5  2015.0  2013017.0  3.20743e+08  6276.11\n",
       "6  2016.0  2034119.0  3.23071e+08  6296.19"
      ]
     },
     "execution_count": 8,
     "metadata": {},
     "output_type": "execute_result"
    }
   ],
   "source": [
    "merge1['dpm'] = (merge1['Deaths']/merge1['Pop'])*1000000\n",
    "merge1"
   ]
  },
  {
   "cell_type": "markdown",
   "metadata": {},
   "source": [
    "**Part 1.6 - Results:**\n",
    "\n",
    "From our final result (merge1), we can see that the Deaths per million (dpm) has been **generally** increasing from 2010 till 2016. \n",
    "This provides evidence that the Americans are facing **Increasing** likelyhood of death. "
   ]
  },
  {
   "cell_type": "markdown",
   "metadata": {},
   "source": [
    "### Part 2\n",
    "This part required us to determine the four leading causes of death for Americans. \n",
    "We need a dataframe that has only the United States as \"State\" and has all causes **except** for \"All causes\". \n",
    "Then we would group the data to obtain leading four causes of death. "
   ]
  },
  {
   "cell_type": "markdown",
   "metadata": {},
   "source": [
    "**Part 2.1:**\n",
    "\n",
    "Utilize df1_usa_filtered which has only United States as State and no All causes"
   ]
  },
  {
   "cell_type": "markdown",
   "metadata": {},
   "source": [
    "**Part 2.2:**\n",
    "\n",
    "Here, we group our dataframe by Cause Name and aggregate the total number of deaths (sum function). \n",
    "We sort the values in descending order, and use iloc to obtain the first four entries and store them in usa_causes. \n",
    "We also store these causes as a List in usa_causes_list for later use. "
   ]
  },
  {
   "cell_type": "code",
   "execution_count": 9,
   "metadata": {
    "scrolled": true
   },
   "outputs": [
    {
     "data": {
      "text/html": [
       "<div>\n",
       "<style scoped>\n",
       "    .dataframe tbody tr th:only-of-type {\n",
       "        vertical-align: middle;\n",
       "    }\n",
       "\n",
       "    .dataframe tbody tr th {\n",
       "        vertical-align: top;\n",
       "    }\n",
       "\n",
       "    .dataframe thead th {\n",
       "        text-align: right;\n",
       "    }\n",
       "</style>\n",
       "<table border=\"1\" class=\"dataframe\">\n",
       "  <thead>\n",
       "    <tr style=\"text-align: right;\">\n",
       "      <th></th>\n",
       "      <th>Cause Name</th>\n",
       "      <th>Deaths</th>\n",
       "    </tr>\n",
       "  </thead>\n",
       "  <tbody>\n",
       "    <tr>\n",
       "      <th>0</th>\n",
       "      <td>Heart disease</td>\n",
       "      <td>11575183</td>\n",
       "    </tr>\n",
       "    <tr>\n",
       "      <th>1</th>\n",
       "      <td>Cancer</td>\n",
       "      <td>10244536</td>\n",
       "    </tr>\n",
       "    <tr>\n",
       "      <th>2</th>\n",
       "      <td>Stroke</td>\n",
       "      <td>2580140</td>\n",
       "    </tr>\n",
       "    <tr>\n",
       "      <th>3</th>\n",
       "      <td>CLRD</td>\n",
       "      <td>2434726</td>\n",
       "    </tr>\n",
       "  </tbody>\n",
       "</table>\n",
       "</div>"
      ],
      "text/plain": [
       "      Cause Name    Deaths\n",
       "0  Heart disease  11575183\n",
       "1         Cancer  10244536\n",
       "2         Stroke   2580140\n",
       "3           CLRD   2434726"
      ]
     },
     "execution_count": 9,
     "metadata": {},
     "output_type": "execute_result"
    }
   ],
   "source": [
    "usa_causes = df1_usa_filtered.groupby('Cause Name').agg({'Deaths':sum}).round()\n",
    "usa_causes = usa_causes.sort_values('Deaths', ascending = False).reset_index()\n",
    "usa_causes = usa_causes.iloc[0:4,:]\n",
    "# Leading USA causes as list for later use\n",
    "usa_causes_list = list(usa_causes['Cause Name'])\n",
    "usa_causes"
   ]
  },
  {
   "cell_type": "markdown",
   "metadata": {},
   "source": [
    "**Part 2.3 - Results:**\n",
    "\n",
    "Our final result 'usa_causes' shows that the leading four causes of death in the US are **Heart disease, Cancer, Stroke, and CLRD** in that order. "
   ]
  },
  {
   "cell_type": "markdown",
   "metadata": {},
   "source": [
    "### Part 3\n",
    "\n",
    "This part required us to determine if the individual states showed the same four leading causes of death as the US as a whole. \n",
    "For this part, we needed a dataframe that **Did not** have United State as State and All Causes as Cause Name.\n",
    "Our goal was to group data so as to obtain for each State, the top four leading causes of death. \n",
    "\n",
    "**Note:**\n",
    "The question does not ask if the leading causes have the same order. So our understanding is that if the leading causes in a state are the same as US (in any order), it will be counted as having the same leading causes. "
   ]
  },
  {
   "cell_type": "markdown",
   "metadata": {},
   "source": [
    "**Part 3.1:**\n",
    "\n",
    "We use our two masks. mask had a boolean list which was true when State was United States. mask1 had a boolean list which was true when Cause name was All Causes. \n",
    "We then subset the negation of these two masks one by one to create a final dataframe (df1_granular) that had granular data of states and cause names, and no aggregated data such as US or All causes. \n",
    "We do some tests to verify our dataframe. The original df1 showed 52 unique states and 11 unique causes, this one has 51 states and 10 causes. "
   ]
  },
  {
   "cell_type": "code",
   "execution_count": 10,
   "metadata": {
    "scrolled": true
   },
   "outputs": [
    {
     "name": "stdout",
     "output_type": "stream",
     "text": [
      "Is US present? False\n",
      "Is \"All causes\" present? False\n",
      "Total unique states: 51\n",
      "Total unique causes: 10\n"
     ]
    }
   ],
   "source": [
    "df1_no_usa = df1[-mask]\n",
    "df1_granular = df1_no_usa[-mask1]\n",
    "# Tests\n",
    "print('Is US present?', df1_granular['State'].isin(['United States']).any())\n",
    "print('Is \"All causes\" present?', df1_granular['Cause Name'].isin(['All causes']).any())\n",
    "print('Total unique states:', len(df1_granular['State'].unique()))\n",
    "print('Total unique causes:', len(df1_granular['Cause Name'].unique()))"
   ]
  },
  {
   "cell_type": "markdown",
   "metadata": {},
   "source": [
    "**Part 3.2:**\n",
    "\n",
    "We group the dataframe by State and Cause Name, and aggregate (sum) the Deaths. \n",
    "Then we sort the values and obtain the first four for each State. \n",
    "Our final dataframe (state_causes) has, for each state, the four leading causes of death and their respective number of deaths. \n",
    "The resulting table repeats the State name for all its constituent Causes. This has not been removed since this is just an intermediate step. "
   ]
  },
  {
   "cell_type": "code",
   "execution_count": 11,
   "metadata": {},
   "outputs": [
    {
     "data": {
      "text/html": [
       "<div>\n",
       "<style scoped>\n",
       "    .dataframe tbody tr th:only-of-type {\n",
       "        vertical-align: middle;\n",
       "    }\n",
       "\n",
       "    .dataframe tbody tr th {\n",
       "        vertical-align: top;\n",
       "    }\n",
       "\n",
       "    .dataframe thead th {\n",
       "        text-align: right;\n",
       "    }\n",
       "</style>\n",
       "<table border=\"1\" class=\"dataframe\">\n",
       "  <thead>\n",
       "    <tr style=\"text-align: right;\">\n",
       "      <th></th>\n",
       "      <th>State</th>\n",
       "      <th>Cause Name</th>\n",
       "      <th>Deaths</th>\n",
       "    </tr>\n",
       "  </thead>\n",
       "  <tbody>\n",
       "    <tr>\n",
       "      <th>0</th>\n",
       "      <td>Alabama</td>\n",
       "      <td>Heart disease</td>\n",
       "      <td>227433</td>\n",
       "    </tr>\n",
       "    <tr>\n",
       "      <th>1</th>\n",
       "      <td>Alabama</td>\n",
       "      <td>Cancer</td>\n",
       "      <td>180780</td>\n",
       "    </tr>\n",
       "    <tr>\n",
       "      <th>2</th>\n",
       "      <td>Alabama</td>\n",
       "      <td>Stroke</td>\n",
       "      <td>51507</td>\n",
       "    </tr>\n",
       "    <tr>\n",
       "      <th>3</th>\n",
       "      <td>Alabama</td>\n",
       "      <td>CLRD</td>\n",
       "      <td>47778</td>\n",
       "    </tr>\n",
       "    <tr>\n",
       "      <th>4</th>\n",
       "      <td>Alaska</td>\n",
       "      <td>Cancer</td>\n",
       "      <td>15032</td>\n",
       "    </tr>\n",
       "  </tbody>\n",
       "</table>\n",
       "</div>"
      ],
      "text/plain": [
       "     State     Cause Name  Deaths\n",
       "0  Alabama  Heart disease  227433\n",
       "1  Alabama         Cancer  180780\n",
       "2  Alabama         Stroke   51507\n",
       "3  Alabama           CLRD   47778\n",
       "4   Alaska         Cancer   15032"
      ]
     },
     "execution_count": 11,
     "metadata": {},
     "output_type": "execute_result"
    }
   ],
   "source": [
    "group1 = df1_granular.groupby(['State', 'Cause Name'])\n",
    "state_causes_temp = group1.agg({'Deaths':sum})\n",
    "state_causes = state_causes_temp['Deaths'].groupby(level=0, group_keys=False).nlargest(4).reset_index()\n",
    "state_causes.head(5)"
   ]
  },
  {
   "cell_type": "markdown",
   "metadata": {},
   "source": [
    "**Important secondary concept used below**\n",
    "\n",
    "When comparing lists for equality, the order matters. \n",
    "If the set of a list is compared with the set of another list, the order of values does not matter. "
   ]
  },
  {
   "cell_type": "code",
   "execution_count": 12,
   "metadata": {},
   "outputs": [
    {
     "name": "stdout",
     "output_type": "stream",
     "text": [
      "False\n",
      "True\n"
     ]
    }
   ],
   "source": [
    "a = [1,2,3,4]\n",
    "b = [4,3,2,1]\n",
    "print(a == b)\n",
    "print(set(a) == set(b))"
   ]
  },
  {
   "cell_type": "markdown",
   "metadata": {},
   "source": [
    "**Part 3.3:**\n",
    "\n",
    "The table from Part 3.2 is large so in this part, we will create some metrics to answer the question: if states show the same leading causes of deaths as US as a whole. \n",
    "We group our resulting table from 3.2 by State and store in group2. \n",
    "Then we create an empty list state_causes_bool. \n",
    "We run a for loop for group2. In each iteration, we store the four leading causes of death of that state in temp. Then we compare the set(temp) with the set(usa_causes_list) - prepared in Part 2.2.\n",
    "If the leading causes match (irrespective of order), we append a True to our boolean list, otherwise False. \n",
    "At the end, we check the length of boolean list to see how many states were compared with US. \n",
    "We also sum the list to get a total number of states that had the same leading causes as US. And then calculate the percentage. "
   ]
  },
  {
   "cell_type": "code",
   "execution_count": 13,
   "metadata": {},
   "outputs": [
    {
     "name": "stdout",
     "output_type": "stream",
     "text": [
      "Total number of states compared with USA leading causes: 51\n",
      "Number of states with the same leading causes as USA: 30\n",
      "Rounded Percentage of states showing the same leading causes as USA: 59 %\n"
     ]
    }
   ],
   "source": [
    "group2 = state_causes.groupby(['State'])\n",
    "\n",
    "state_causes_bool = []\n",
    "for key, item in group2:\n",
    "    temp = list(group2.get_group(key)['Cause Name'])\n",
    "    if (set(temp) == set(usa_causes_list)):\n",
    "        state_causes_bool.append(True)\n",
    "    else:\n",
    "        state_causes_bool.append(False)\n",
    "        \n",
    "print('Total number of states compared with USA leading causes:', len(state_causes_bool))\n",
    "print('Number of states with the same leading causes as USA:', sum(state_causes_bool))\n",
    "print('Rounded Percentage of states showing the same leading causes as USA:', round((sum(state_causes_bool)/len(state_causes_bool))*100), '%')"
   ]
  },
  {
   "cell_type": "markdown",
   "metadata": {},
   "source": [
    "**Part 3.4 - Results:**\n",
    "\n",
    "We observe and calculate that **about 59% of states had the same 4 leading causes**, others had slightly different four leading causes. Not all states show the same leading causes of death as US. "
   ]
  },
  {
   "cell_type": "markdown",
   "metadata": {},
   "source": [
    "### Part 4\n",
    "\n",
    "This part required us to check if there were year-by-year changes in the four leading causes of death \"Nationwide\", in other words, in the US. \n",
    "We need a dataframe that only has State as 'United States' and **does not** have 'All Causes' as a Cause name. \n",
    "Our goal was to get a dataframe that shows the four leading causes of death in US for each year. "
   ]
  },
  {
   "cell_type": "markdown",
   "metadata": {},
   "source": [
    "**Part 4.1:**\n",
    "\n",
    "We will use the dataframe df1_usa_filtered created in Part 2.1.\n",
    "We group the data by Year and Cause Name, and aggregate (sum) for Deaths. We pick the four leading Causes in each Year only with their respective deaths.\n",
    "Resulting dataframe (year_causes) shows the required information. "
   ]
  },
  {
   "cell_type": "code",
   "execution_count": 14,
   "metadata": {},
   "outputs": [
    {
     "data": {
      "text/html": [
       "<div>\n",
       "<style scoped>\n",
       "    .dataframe tbody tr th:only-of-type {\n",
       "        vertical-align: middle;\n",
       "    }\n",
       "\n",
       "    .dataframe tbody tr th {\n",
       "        vertical-align: top;\n",
       "    }\n",
       "\n",
       "    .dataframe thead th {\n",
       "        text-align: right;\n",
       "    }\n",
       "</style>\n",
       "<table border=\"1\" class=\"dataframe\">\n",
       "  <thead>\n",
       "    <tr style=\"text-align: right;\">\n",
       "      <th></th>\n",
       "      <th>Year</th>\n",
       "      <th>Cause Name</th>\n",
       "      <th>Deaths</th>\n",
       "    </tr>\n",
       "  </thead>\n",
       "  <tbody>\n",
       "    <tr>\n",
       "      <th>0</th>\n",
       "      <td>1999</td>\n",
       "      <td>Heart disease</td>\n",
       "      <td>725192</td>\n",
       "    </tr>\n",
       "    <tr>\n",
       "      <th>1</th>\n",
       "      <td>1999</td>\n",
       "      <td>Cancer</td>\n",
       "      <td>549838</td>\n",
       "    </tr>\n",
       "    <tr>\n",
       "      <th>2</th>\n",
       "      <td>1999</td>\n",
       "      <td>Stroke</td>\n",
       "      <td>167366</td>\n",
       "    </tr>\n",
       "    <tr>\n",
       "      <th>3</th>\n",
       "      <td>1999</td>\n",
       "      <td>CLRD</td>\n",
       "      <td>124181</td>\n",
       "    </tr>\n",
       "    <tr>\n",
       "      <th>4</th>\n",
       "      <td>2000</td>\n",
       "      <td>Heart disease</td>\n",
       "      <td>710760</td>\n",
       "    </tr>\n",
       "  </tbody>\n",
       "</table>\n",
       "</div>"
      ],
      "text/plain": [
       "   Year     Cause Name  Deaths\n",
       "0  1999  Heart disease  725192\n",
       "1  1999         Cancer  549838\n",
       "2  1999         Stroke  167366\n",
       "3  1999           CLRD  124181\n",
       "4  2000  Heart disease  710760"
      ]
     },
     "execution_count": 14,
     "metadata": {},
     "output_type": "execute_result"
    }
   ],
   "source": [
    "group3 = df1_usa_filtered.groupby(['Year', 'Cause Name'])\n",
    "year_causes_temp = group3.agg({'Deaths':sum})\n",
    "year_causes = year_causes_temp['Deaths'].groupby(level=0, group_keys=False).nlargest(4).reset_index()\n",
    "year_causes.head()"
   ]
  },
  {
   "cell_type": "markdown",
   "metadata": {},
   "source": [
    "**Part 4.2:**\n",
    "\n",
    "We do the same calculations as in Part 3.3. Only difference is that here, we have grouped by Year and not State. "
   ]
  },
  {
   "cell_type": "code",
   "execution_count": 15,
   "metadata": {},
   "outputs": [
    {
     "name": "stdout",
     "output_type": "stream",
     "text": [
      "Total number of years for which leading causes were compared: 18\n",
      "Total Number of years that had the same 4 leading causes of death as US: 14\n",
      "Rounded percentage of years which had the same 4 leading causes of death: 78 %\n"
     ]
    }
   ],
   "source": [
    "group4 = year_causes.groupby(['Year'])\n",
    "\n",
    "year_causes_bool = []\n",
    "for key, item in group4:\n",
    "    temp = list(group4.get_group(key)['Cause Name'])\n",
    "    if (set(temp) == set(usa_causes_list)):\n",
    "        year_causes_bool.append(True)\n",
    "    else:\n",
    "        year_causes_bool.append(False)\n",
    "        \n",
    "print('Total number of years for which leading causes were compared:', len(year_causes_bool))\n",
    "print('Total Number of years that had the same 4 leading causes of death as US:', sum(year_causes_bool))\n",
    "print('Rounded percentage of years which had the same 4 leading causes of death:', round((sum(year_causes_bool)/len(year_causes_bool))*100), '%')"
   ]
  },
  {
   "cell_type": "markdown",
   "metadata": {},
   "source": [
    "**Part 4.3 - Results:**\n",
    "\n",
    "We can see that **about 78% of the years** had the same four leading causes of death. Only 22% of the years did not. Printing the data showed that the causes began to vary only in the last few years and that too slightly. \n",
    "So there are minimal yearly changes in the leading causes of death. "
   ]
  },
  {
   "cell_type": "markdown",
   "metadata": {},
   "source": [
    "## D. Conclusion\n",
    "Through this project, we saw how Pandas can be effectively used for data management and analysis. By working through the two datasets, we generated insights as to whether the death rate is increasing or decreasing, what are the leading causes of death nationwide, how similar are the leading causes of death in individual states compared to national, and finally, what changes are observed in these leading causes year by year. Pandas allowed us to answer broad questions statiscally. "
   ]
  }
 ],
 "metadata": {
  "kernelspec": {
   "display_name": "Python 3",
   "language": "python",
   "name": "python3"
  },
  "language_info": {
   "codemirror_mode": {
    "name": "ipython",
    "version": 3
   },
   "file_extension": ".py",
   "mimetype": "text/x-python",
   "name": "python",
   "nbconvert_exporter": "python",
   "pygments_lexer": "ipython3",
   "version": "3.8.3"
  }
 },
 "nbformat": 4,
 "nbformat_minor": 4
}
